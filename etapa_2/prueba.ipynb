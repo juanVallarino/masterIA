{
 "cells": [
  {
   "cell_type": "code",
   "id": "initial_id",
   "metadata": {
    "collapsed": true,
    "ExecuteTime": {
     "end_time": "2024-09-23T03:08:28.724259Z",
     "start_time": "2024-09-23T03:08:27.539480Z"
    }
   },
   "source": [
    "import pandas as pd\n",
    "\n",
    "from ydata_profiling import ProfileReport"
   ],
   "outputs": [],
   "execution_count": 2
  },
  {
   "metadata": {
    "ExecuteTime": {
     "end_time": "2024-09-23T03:08:28.739263Z",
     "start_time": "2024-09-23T03:08:28.725260Z"
    }
   },
   "cell_type": "code",
   "source": [
    "path = '../resources/etapa_2/datos_etapa_2.csv'\n",
    "with open(path, 'r') as file:\n",
    "    content = file.read()\n",
    "\n",
    "content = content.replace('\"', '')  # Eliminar las comillas dobles\n",
    "\n",
    "with open(path, 'w') as file:\n",
    "    file.write(content)"
   ],
   "id": "66ba07d6e6327f5b",
   "outputs": [],
   "execution_count": 3
  },
  {
   "metadata": {
    "ExecuteTime": {
     "end_time": "2024-09-23T03:08:28.769780Z",
     "start_time": "2024-09-23T03:08:28.740263Z"
    }
   },
   "cell_type": "code",
   "source": [
    "data_original = pd.read_csv(path, sep=',')\n",
    "data_copy = data_original.copy()\n",
    "data_copy.head()\n"
   ],
   "id": "85b36190ce5ea2fc",
   "outputs": [
    {
     "data": {
      "text/plain": [
       "     pH  Dureza   Sólidos  Cloraminas  Sulfatos  Conductividad  \\\n",
       "0   NaN  204.89  20791.32        7.30    368.52         564.31   \n",
       "1  3.72  129.42  18630.06        6.64       NaN         592.89   \n",
       "2  8.10  224.24  19909.54        9.28       NaN         418.61   \n",
       "3  8.32  214.37  22018.42        8.06    356.89         363.27   \n",
       "4  9.09  181.10  17978.99        6.55    310.14         398.41   \n",
       "\n",
       "   Carbono_orgánico  Trihalometanos  Turbidez Potabilidad  \n",
       "0             10.38           86.99      2.96          NO  \n",
       "1             15.18           56.33      4.50          NO  \n",
       "2             16.87           66.42      3.06          NO  \n",
       "3             18.44          100.34      4.63          NO  \n",
       "4             11.56           32.00      4.08          NO  "
      ],
      "text/html": [
       "<div>\n",
       "<style scoped>\n",
       "    .dataframe tbody tr th:only-of-type {\n",
       "        vertical-align: middle;\n",
       "    }\n",
       "\n",
       "    .dataframe tbody tr th {\n",
       "        vertical-align: top;\n",
       "    }\n",
       "\n",
       "    .dataframe thead th {\n",
       "        text-align: right;\n",
       "    }\n",
       "</style>\n",
       "<table border=\"1\" class=\"dataframe\">\n",
       "  <thead>\n",
       "    <tr style=\"text-align: right;\">\n",
       "      <th></th>\n",
       "      <th>pH</th>\n",
       "      <th>Dureza</th>\n",
       "      <th>Sólidos</th>\n",
       "      <th>Cloraminas</th>\n",
       "      <th>Sulfatos</th>\n",
       "      <th>Conductividad</th>\n",
       "      <th>Carbono_orgánico</th>\n",
       "      <th>Trihalometanos</th>\n",
       "      <th>Turbidez</th>\n",
       "      <th>Potabilidad</th>\n",
       "    </tr>\n",
       "  </thead>\n",
       "  <tbody>\n",
       "    <tr>\n",
       "      <th>0</th>\n",
       "      <td>NaN</td>\n",
       "      <td>204.89</td>\n",
       "      <td>20791.32</td>\n",
       "      <td>7.30</td>\n",
       "      <td>368.52</td>\n",
       "      <td>564.31</td>\n",
       "      <td>10.38</td>\n",
       "      <td>86.99</td>\n",
       "      <td>2.96</td>\n",
       "      <td>NO</td>\n",
       "    </tr>\n",
       "    <tr>\n",
       "      <th>1</th>\n",
       "      <td>3.72</td>\n",
       "      <td>129.42</td>\n",
       "      <td>18630.06</td>\n",
       "      <td>6.64</td>\n",
       "      <td>NaN</td>\n",
       "      <td>592.89</td>\n",
       "      <td>15.18</td>\n",
       "      <td>56.33</td>\n",
       "      <td>4.50</td>\n",
       "      <td>NO</td>\n",
       "    </tr>\n",
       "    <tr>\n",
       "      <th>2</th>\n",
       "      <td>8.10</td>\n",
       "      <td>224.24</td>\n",
       "      <td>19909.54</td>\n",
       "      <td>9.28</td>\n",
       "      <td>NaN</td>\n",
       "      <td>418.61</td>\n",
       "      <td>16.87</td>\n",
       "      <td>66.42</td>\n",
       "      <td>3.06</td>\n",
       "      <td>NO</td>\n",
       "    </tr>\n",
       "    <tr>\n",
       "      <th>3</th>\n",
       "      <td>8.32</td>\n",
       "      <td>214.37</td>\n",
       "      <td>22018.42</td>\n",
       "      <td>8.06</td>\n",
       "      <td>356.89</td>\n",
       "      <td>363.27</td>\n",
       "      <td>18.44</td>\n",
       "      <td>100.34</td>\n",
       "      <td>4.63</td>\n",
       "      <td>NO</td>\n",
       "    </tr>\n",
       "    <tr>\n",
       "      <th>4</th>\n",
       "      <td>9.09</td>\n",
       "      <td>181.10</td>\n",
       "      <td>17978.99</td>\n",
       "      <td>6.55</td>\n",
       "      <td>310.14</td>\n",
       "      <td>398.41</td>\n",
       "      <td>11.56</td>\n",
       "      <td>32.00</td>\n",
       "      <td>4.08</td>\n",
       "      <td>NO</td>\n",
       "    </tr>\n",
       "  </tbody>\n",
       "</table>\n",
       "</div>"
      ]
     },
     "execution_count": 4,
     "metadata": {},
     "output_type": "execute_result"
    }
   ],
   "execution_count": 4
  },
  {
   "metadata": {
    "ExecuteTime": {
     "end_time": "2024-09-23T03:09:52.142012Z",
     "start_time": "2024-09-23T03:09:21.516915Z"
    }
   },
   "cell_type": "code",
   "source": "profile = ProfileReport(data_copy, title='Informe de Datos', explorative=True )",
   "id": "a9696dc314c9d99b",
   "outputs": [],
   "execution_count": 7
  },
  {
   "metadata": {
    "ExecuteTime": {
     "end_time": "2024-09-23T02:48:34.252224Z",
     "start_time": "2024-09-23T02:48:34.237968Z"
    }
   },
   "cell_type": "code",
   "source": "#profile.to_file(\"informe.html\")",
   "id": "a35028a7f390eabc",
   "outputs": [],
   "execution_count": 5
  },
  {
   "metadata": {
    "ExecuteTime": {
     "end_time": "2024-09-23T03:11:44.830018Z",
     "start_time": "2024-09-23T03:11:38.007884Z"
    }
   },
   "cell_type": "code",
   "source": [
    "#profile = profile.to_widgets()\n",
    "#overview = pd.DataFrame(profile)\n",
    "profile.get_sample()"
   ],
   "id": "2c1adf80cb0cc3a",
   "outputs": [
    {
     "data": {
      "text/plain": [
       "Summarize dataset:   0%|          | 0/5 [00:00<?, ?it/s]"
      ],
      "application/vnd.jupyter.widget-view+json": {
       "version_major": 2,
       "version_minor": 0,
       "model_id": "7d7add2980884d8495bbf689c2db7c74"
      }
     },
     "metadata": {},
     "output_type": "display_data"
    },
    {
     "ename": "TypeCheckError",
     "evalue": "the return value (list) is not a dict",
     "output_type": "error",
     "traceback": [
      "\u001B[1;31m---------------------------------------------------------------------------\u001B[0m",
      "\u001B[1;31mTypeCheckError\u001B[0m                            Traceback (most recent call last)",
      "Cell \u001B[1;32mIn[9], line 3\u001B[0m\n\u001B[0;32m      1\u001B[0m \u001B[38;5;66;03m#profile = profile.to_widgets()\u001B[39;00m\n\u001B[0;32m      2\u001B[0m \u001B[38;5;66;03m#overview = pd.DataFrame(profile)\u001B[39;00m\n\u001B[1;32m----> 3\u001B[0m \u001B[43mprofile\u001B[49m\u001B[38;5;241;43m.\u001B[39;49m\u001B[43mget_sample\u001B[49m\u001B[43m(\u001B[49m\u001B[43m)\u001B[49m\n",
      "File \u001B[1;32m~\\IdeaProjects\\python\\venv\\lib\\site-packages\\ydata_profiling\\profile_report.py:329\u001B[0m, in \u001B[0;36mProfileReport.get_sample\u001B[1;34m(self)\u001B[0m\n\u001B[0;32m    323\u001B[0m \u001B[38;5;28;01mdef\u001B[39;00m \u001B[38;5;21mget_sample\u001B[39m(\u001B[38;5;28mself\u001B[39m) \u001B[38;5;241m-\u001B[39m\u001B[38;5;241m>\u001B[39m \u001B[38;5;28mdict\u001B[39m:\n\u001B[0;32m    324\u001B[0m \u001B[38;5;250m    \u001B[39m\u001B[38;5;124;03m\"\"\"Get head/tail samples based on the configuration\u001B[39;00m\n\u001B[0;32m    325\u001B[0m \n\u001B[0;32m    326\u001B[0m \u001B[38;5;124;03m    Returns:\u001B[39;00m\n\u001B[0;32m    327\u001B[0m \u001B[38;5;124;03m        A dict with the head and tail samples.\u001B[39;00m\n\u001B[0;32m    328\u001B[0m \u001B[38;5;124;03m    \"\"\"\u001B[39;00m\n\u001B[1;32m--> 329\u001B[0m     \u001B[38;5;28;01mreturn\u001B[39;00m \u001B[38;5;28mself\u001B[39m\u001B[38;5;241m.\u001B[39mdescription_set\u001B[38;5;241m.\u001B[39msample\n",
      "File \u001B[1;32m~\\IdeaProjects\\python\\venv\\lib\\site-packages\\typeguard\\_functions.py:165\u001B[0m, in \u001B[0;36mcheck_return_type\u001B[1;34m(func_name, retval, annotation, memo)\u001B[0m\n\u001B[0;32m    162\u001B[0m         \u001B[38;5;28;01mraise\u001B[39;00m exc\n\u001B[0;32m    164\u001B[0m \u001B[38;5;28;01mtry\u001B[39;00m:\n\u001B[1;32m--> 165\u001B[0m     \u001B[43mcheck_type_internal\u001B[49m\u001B[43m(\u001B[49m\u001B[43mretval\u001B[49m\u001B[43m,\u001B[49m\u001B[43m \u001B[49m\u001B[43mannotation\u001B[49m\u001B[43m,\u001B[49m\u001B[43m \u001B[49m\u001B[43mmemo\u001B[49m\u001B[43m)\u001B[49m\n\u001B[0;32m    166\u001B[0m \u001B[38;5;28;01mexcept\u001B[39;00m TypeCheckError \u001B[38;5;28;01mas\u001B[39;00m exc:\n\u001B[0;32m    167\u001B[0m     \u001B[38;5;66;03m# Allow NotImplemented if this is a binary magic method (__eq__() et al)\u001B[39;00m\n\u001B[0;32m    168\u001B[0m     \u001B[38;5;28;01mif\u001B[39;00m retval \u001B[38;5;129;01mis\u001B[39;00m \u001B[38;5;28mNotImplemented\u001B[39m \u001B[38;5;129;01mand\u001B[39;00m annotation \u001B[38;5;129;01mis\u001B[39;00m \u001B[38;5;28mbool\u001B[39m:\n\u001B[0;32m    169\u001B[0m         \u001B[38;5;66;03m# This does (and cannot) not check if it's actually a method\u001B[39;00m\n",
      "File \u001B[1;32m~\\IdeaProjects\\python\\venv\\lib\\site-packages\\typeguard\\_checkers.py:861\u001B[0m, in \u001B[0;36mcheck_type_internal\u001B[1;34m(value, annotation, memo)\u001B[0m\n\u001B[0;32m    859\u001B[0m     checker \u001B[38;5;241m=\u001B[39m lookup_func(origin_type, args, extras)\n\u001B[0;32m    860\u001B[0m     \u001B[38;5;28;01mif\u001B[39;00m checker:\n\u001B[1;32m--> 861\u001B[0m         \u001B[43mchecker\u001B[49m\u001B[43m(\u001B[49m\u001B[43mvalue\u001B[49m\u001B[43m,\u001B[49m\u001B[43m \u001B[49m\u001B[43morigin_type\u001B[49m\u001B[43m,\u001B[49m\u001B[43m \u001B[49m\u001B[43margs\u001B[49m\u001B[43m,\u001B[49m\u001B[43m \u001B[49m\u001B[43mmemo\u001B[49m\u001B[43m)\u001B[49m\n\u001B[0;32m    862\u001B[0m         \u001B[38;5;28;01mreturn\u001B[39;00m\n\u001B[0;32m    864\u001B[0m \u001B[38;5;28;01mif\u001B[39;00m isclass(origin_type):\n",
      "File \u001B[1;32m~\\IdeaProjects\\python\\venv\\lib\\site-packages\\typeguard\\_checkers.py:221\u001B[0m, in \u001B[0;36mcheck_mapping\u001B[1;34m(value, origin_type, args, memo)\u001B[0m\n\u001B[0;32m    219\u001B[0m \u001B[38;5;28;01mif\u001B[39;00m origin_type \u001B[38;5;129;01mis\u001B[39;00m Dict \u001B[38;5;129;01mor\u001B[39;00m origin_type \u001B[38;5;129;01mis\u001B[39;00m \u001B[38;5;28mdict\u001B[39m:\n\u001B[0;32m    220\u001B[0m     \u001B[38;5;28;01mif\u001B[39;00m \u001B[38;5;129;01mnot\u001B[39;00m \u001B[38;5;28misinstance\u001B[39m(value, \u001B[38;5;28mdict\u001B[39m):\n\u001B[1;32m--> 221\u001B[0m         \u001B[38;5;28;01mraise\u001B[39;00m TypeCheckError(\u001B[38;5;124m\"\u001B[39m\u001B[38;5;124mis not a dict\u001B[39m\u001B[38;5;124m\"\u001B[39m)\n\u001B[0;32m    222\u001B[0m \u001B[38;5;28;01mif\u001B[39;00m origin_type \u001B[38;5;129;01mis\u001B[39;00m MutableMapping \u001B[38;5;129;01mor\u001B[39;00m origin_type \u001B[38;5;129;01mis\u001B[39;00m collections\u001B[38;5;241m.\u001B[39mabc\u001B[38;5;241m.\u001B[39mMutableMapping:\n\u001B[0;32m    223\u001B[0m     \u001B[38;5;28;01mif\u001B[39;00m \u001B[38;5;129;01mnot\u001B[39;00m \u001B[38;5;28misinstance\u001B[39m(value, collections\u001B[38;5;241m.\u001B[39mabc\u001B[38;5;241m.\u001B[39mMutableMapping):\n",
      "\u001B[1;31mTypeCheckError\u001B[0m: the return value (list) is not a dict"
     ]
    }
   ],
   "execution_count": 9
  },
  {
   "metadata": {},
   "cell_type": "code",
   "outputs": [],
   "execution_count": null,
   "source": "",
   "id": "a1dae43f2084ac5d"
  }
 ],
 "metadata": {
  "kernelspec": {
   "display_name": "Python 3",
   "language": "python",
   "name": "python3"
  },
  "language_info": {
   "codemirror_mode": {
    "name": "ipython",
    "version": 2
   },
   "file_extension": ".py",
   "mimetype": "text/x-python",
   "name": "python",
   "nbconvert_exporter": "python",
   "pygments_lexer": "ipython2",
   "version": "2.7.6"
  }
 },
 "nbformat": 4,
 "nbformat_minor": 5
}
