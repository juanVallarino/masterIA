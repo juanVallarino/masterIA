{
 "cells": [
  {
   "metadata": {
    "ExecuteTime": {
     "end_time": "2025-03-13T22:14:04.591380Z",
     "start_time": "2025-03-13T22:14:04.584379Z"
    }
   },
   "cell_type": "code",
   "source": [
    "import pandas as pd\n",
    "from matplotlib import pyplot as plt\n",
    "from imblearn.over_sampling import SMOTE\n",
    "from sklearn.model_selection import train_test_split\n",
    "from scipy.stats import randint, uniform\n",
    "from sklearn.svm import SVC\n",
    "from xgboost import XGBClassifier\n",
    "from sklearn.preprocessing import StandardScaler\n",
    "from sklearn.ensemble import RandomForestClassifier\n",
    "from imblearn.pipeline import Pipeline\n",
    "from sklearn.model_selection import RandomizedSearchCV\n"
   ],
   "id": "c7293f260289057d",
   "outputs": [],
   "execution_count": 610
  },
  {
   "metadata": {
    "ExecuteTime": {
     "end_time": "2025-03-13T22:14:04.623266Z",
     "start_time": "2025-03-13T22:14:04.592381Z"
    }
   },
   "cell_type": "code",
   "source": [
    "path = '../resources/examen_final/wine_quality.csv'\n",
    "data_original = pd.read_csv(path, sep=',', )\n",
    "data_copy = data_original.copy().drop('Unnamed: 0', axis=1)"
   ],
   "id": "97966273dcfa67fa",
   "outputs": [],
   "execution_count": 611
  },
  {
   "metadata": {
    "ExecuteTime": {
     "end_time": "2025-03-13T22:14:04.639269Z",
     "start_time": "2025-03-13T22:14:04.624266Z"
    }
   },
   "cell_type": "code",
   "source": "data_copy.head(10)",
   "id": "affdd8b4c01a10b1",
   "outputs": [
    {
     "data": {
      "text/plain": [
       "   fixed_acidity  volatile_acidity  citric_acid  residual_sugar  chlorides  \\\n",
       "0            7.4              0.70         0.00             1.9      0.076   \n",
       "1            7.8              0.88         0.00             2.6      0.098   \n",
       "2            7.8              0.76         0.04             2.3      0.092   \n",
       "3           11.2              0.28         0.56             1.9      0.075   \n",
       "4            7.4              0.70         0.00             1.9      0.076   \n",
       "5            7.4              0.66         0.00             1.8      0.075   \n",
       "6            7.9              0.60         0.06             1.6      0.069   \n",
       "7            7.3              0.65         0.00             1.2      0.065   \n",
       "8            7.8              0.58         0.02             2.0      0.073   \n",
       "9            7.5              0.50         0.36             6.1      0.071   \n",
       "\n",
       "   free_sulfur_dioxide  total_sulfur_dioxide  density    pH  sulphates  \\\n",
       "0                 11.0                  34.0   0.9978  3.51       0.56   \n",
       "1                 25.0                  67.0   0.9968  3.20       0.68   \n",
       "2                 15.0                  54.0   0.9970  3.26       0.65   \n",
       "3                 17.0                  60.0   0.9980  3.16       0.58   \n",
       "4                 11.0                  34.0   0.9978  3.51       0.56   \n",
       "5                 13.0                  40.0   0.9978  3.51       0.56   \n",
       "6                 15.0                  59.0   0.9964  3.30       0.46   \n",
       "7                 15.0                  21.0   0.9946  3.39       0.47   \n",
       "8                  9.0                  18.0   0.9968  3.36       0.57   \n",
       "9                 17.0                 102.0   0.9978  3.35       0.80   \n",
       "\n",
       "   alcohol  quality  \n",
       "0      9.4        5  \n",
       "1      9.8        5  \n",
       "2      9.8        5  \n",
       "3      9.8        6  \n",
       "4      9.4        5  \n",
       "5      9.4        5  \n",
       "6      9.4        5  \n",
       "7     10.0        7  \n",
       "8      9.5        7  \n",
       "9     10.5        5  "
      ],
      "text/html": [
       "<div>\n",
       "<style scoped>\n",
       "    .dataframe tbody tr th:only-of-type {\n",
       "        vertical-align: middle;\n",
       "    }\n",
       "\n",
       "    .dataframe tbody tr th {\n",
       "        vertical-align: top;\n",
       "    }\n",
       "\n",
       "    .dataframe thead th {\n",
       "        text-align: right;\n",
       "    }\n",
       "</style>\n",
       "<table border=\"1\" class=\"dataframe\">\n",
       "  <thead>\n",
       "    <tr style=\"text-align: right;\">\n",
       "      <th></th>\n",
       "      <th>fixed_acidity</th>\n",
       "      <th>volatile_acidity</th>\n",
       "      <th>citric_acid</th>\n",
       "      <th>residual_sugar</th>\n",
       "      <th>chlorides</th>\n",
       "      <th>free_sulfur_dioxide</th>\n",
       "      <th>total_sulfur_dioxide</th>\n",
       "      <th>density</th>\n",
       "      <th>pH</th>\n",
       "      <th>sulphates</th>\n",
       "      <th>alcohol</th>\n",
       "      <th>quality</th>\n",
       "    </tr>\n",
       "  </thead>\n",
       "  <tbody>\n",
       "    <tr>\n",
       "      <th>0</th>\n",
       "      <td>7.4</td>\n",
       "      <td>0.70</td>\n",
       "      <td>0.00</td>\n",
       "      <td>1.9</td>\n",
       "      <td>0.076</td>\n",
       "      <td>11.0</td>\n",
       "      <td>34.0</td>\n",
       "      <td>0.9978</td>\n",
       "      <td>3.51</td>\n",
       "      <td>0.56</td>\n",
       "      <td>9.4</td>\n",
       "      <td>5</td>\n",
       "    </tr>\n",
       "    <tr>\n",
       "      <th>1</th>\n",
       "      <td>7.8</td>\n",
       "      <td>0.88</td>\n",
       "      <td>0.00</td>\n",
       "      <td>2.6</td>\n",
       "      <td>0.098</td>\n",
       "      <td>25.0</td>\n",
       "      <td>67.0</td>\n",
       "      <td>0.9968</td>\n",
       "      <td>3.20</td>\n",
       "      <td>0.68</td>\n",
       "      <td>9.8</td>\n",
       "      <td>5</td>\n",
       "    </tr>\n",
       "    <tr>\n",
       "      <th>2</th>\n",
       "      <td>7.8</td>\n",
       "      <td>0.76</td>\n",
       "      <td>0.04</td>\n",
       "      <td>2.3</td>\n",
       "      <td>0.092</td>\n",
       "      <td>15.0</td>\n",
       "      <td>54.0</td>\n",
       "      <td>0.9970</td>\n",
       "      <td>3.26</td>\n",
       "      <td>0.65</td>\n",
       "      <td>9.8</td>\n",
       "      <td>5</td>\n",
       "    </tr>\n",
       "    <tr>\n",
       "      <th>3</th>\n",
       "      <td>11.2</td>\n",
       "      <td>0.28</td>\n",
       "      <td>0.56</td>\n",
       "      <td>1.9</td>\n",
       "      <td>0.075</td>\n",
       "      <td>17.0</td>\n",
       "      <td>60.0</td>\n",
       "      <td>0.9980</td>\n",
       "      <td>3.16</td>\n",
       "      <td>0.58</td>\n",
       "      <td>9.8</td>\n",
       "      <td>6</td>\n",
       "    </tr>\n",
       "    <tr>\n",
       "      <th>4</th>\n",
       "      <td>7.4</td>\n",
       "      <td>0.70</td>\n",
       "      <td>0.00</td>\n",
       "      <td>1.9</td>\n",
       "      <td>0.076</td>\n",
       "      <td>11.0</td>\n",
       "      <td>34.0</td>\n",
       "      <td>0.9978</td>\n",
       "      <td>3.51</td>\n",
       "      <td>0.56</td>\n",
       "      <td>9.4</td>\n",
       "      <td>5</td>\n",
       "    </tr>\n",
       "    <tr>\n",
       "      <th>5</th>\n",
       "      <td>7.4</td>\n",
       "      <td>0.66</td>\n",
       "      <td>0.00</td>\n",
       "      <td>1.8</td>\n",
       "      <td>0.075</td>\n",
       "      <td>13.0</td>\n",
       "      <td>40.0</td>\n",
       "      <td>0.9978</td>\n",
       "      <td>3.51</td>\n",
       "      <td>0.56</td>\n",
       "      <td>9.4</td>\n",
       "      <td>5</td>\n",
       "    </tr>\n",
       "    <tr>\n",
       "      <th>6</th>\n",
       "      <td>7.9</td>\n",
       "      <td>0.60</td>\n",
       "      <td>0.06</td>\n",
       "      <td>1.6</td>\n",
       "      <td>0.069</td>\n",
       "      <td>15.0</td>\n",
       "      <td>59.0</td>\n",
       "      <td>0.9964</td>\n",
       "      <td>3.30</td>\n",
       "      <td>0.46</td>\n",
       "      <td>9.4</td>\n",
       "      <td>5</td>\n",
       "    </tr>\n",
       "    <tr>\n",
       "      <th>7</th>\n",
       "      <td>7.3</td>\n",
       "      <td>0.65</td>\n",
       "      <td>0.00</td>\n",
       "      <td>1.2</td>\n",
       "      <td>0.065</td>\n",
       "      <td>15.0</td>\n",
       "      <td>21.0</td>\n",
       "      <td>0.9946</td>\n",
       "      <td>3.39</td>\n",
       "      <td>0.47</td>\n",
       "      <td>10.0</td>\n",
       "      <td>7</td>\n",
       "    </tr>\n",
       "    <tr>\n",
       "      <th>8</th>\n",
       "      <td>7.8</td>\n",
       "      <td>0.58</td>\n",
       "      <td>0.02</td>\n",
       "      <td>2.0</td>\n",
       "      <td>0.073</td>\n",
       "      <td>9.0</td>\n",
       "      <td>18.0</td>\n",
       "      <td>0.9968</td>\n",
       "      <td>3.36</td>\n",
       "      <td>0.57</td>\n",
       "      <td>9.5</td>\n",
       "      <td>7</td>\n",
       "    </tr>\n",
       "    <tr>\n",
       "      <th>9</th>\n",
       "      <td>7.5</td>\n",
       "      <td>0.50</td>\n",
       "      <td>0.36</td>\n",
       "      <td>6.1</td>\n",
       "      <td>0.071</td>\n",
       "      <td>17.0</td>\n",
       "      <td>102.0</td>\n",
       "      <td>0.9978</td>\n",
       "      <td>3.35</td>\n",
       "      <td>0.80</td>\n",
       "      <td>10.5</td>\n",
       "      <td>5</td>\n",
       "    </tr>\n",
       "  </tbody>\n",
       "</table>\n",
       "</div>"
      ]
     },
     "execution_count": 612,
     "metadata": {},
     "output_type": "execute_result"
    }
   ],
   "execution_count": 612
  },
  {
   "metadata": {
    "ExecuteTime": {
     "end_time": "2025-03-13T22:14:04.654378Z",
     "start_time": "2025-03-13T22:14:04.640271Z"
    }
   },
   "cell_type": "code",
   "source": "print(f'Valores Nulos: \\n{data_copy.isnull().sum()} ')",
   "id": "2669738fafa22486",
   "outputs": [
    {
     "name": "stdout",
     "output_type": "stream",
     "text": [
      "Valores Nulos: \n",
      "fixed_acidity           0\n",
      "volatile_acidity        0\n",
      "citric_acid             0\n",
      "residual_sugar          0\n",
      "chlorides               0\n",
      "free_sulfur_dioxide     0\n",
      "total_sulfur_dioxide    0\n",
      "density                 0\n",
      "pH                      0\n",
      "sulphates               0\n",
      "alcohol                 0\n",
      "quality                 0\n",
      "dtype: int64 \n"
     ]
    }
   ],
   "execution_count": 613
  },
  {
   "metadata": {
    "ExecuteTime": {
     "end_time": "2025-03-13T22:14:04.670381Z",
     "start_time": "2025-03-13T22:14:04.655378Z"
    }
   },
   "cell_type": "code",
   "source": [
    "print(f'Tamaño Datos:  \\n{data_copy.dtypes}')\n",
    "print('-----------------')\n",
    "print(f'Uso de memoria: \\n{data_copy.memory_usage(deep= True)}')"
   ],
   "id": "711b2008aeb5e7f5",
   "outputs": [
    {
     "name": "stdout",
     "output_type": "stream",
     "text": [
      "Tamaño Datos:  \n",
      "fixed_acidity           float64\n",
      "volatile_acidity        float64\n",
      "citric_acid             float64\n",
      "residual_sugar          float64\n",
      "chlorides               float64\n",
      "free_sulfur_dioxide     float64\n",
      "total_sulfur_dioxide    float64\n",
      "density                 float64\n",
      "pH                      float64\n",
      "sulphates               float64\n",
      "alcohol                 float64\n",
      "quality                   int64\n",
      "dtype: object\n",
      "-----------------\n",
      "Uso de memoria: \n",
      "Index                     128\n",
      "fixed_acidity           51976\n",
      "volatile_acidity        51976\n",
      "citric_acid             51976\n",
      "residual_sugar          51976\n",
      "chlorides               51976\n",
      "free_sulfur_dioxide     51976\n",
      "total_sulfur_dioxide    51976\n",
      "density                 51976\n",
      "pH                      51976\n",
      "sulphates               51976\n",
      "alcohol                 51976\n",
      "quality                 51976\n",
      "dtype: int64\n"
     ]
    }
   ],
   "execution_count": 614
  },
  {
   "metadata": {
    "ExecuteTime": {
     "end_time": "2025-03-13T22:14:04.685385Z",
     "start_time": "2025-03-13T22:14:04.671381Z"
    }
   },
   "cell_type": "code",
   "source": "print(data_copy.max())",
   "id": "4c5650938b053ddf",
   "outputs": [
    {
     "name": "stdout",
     "output_type": "stream",
     "text": [
      "fixed_acidity            15.90000\n",
      "volatile_acidity          1.58000\n",
      "citric_acid               1.66000\n",
      "residual_sugar           65.80000\n",
      "chlorides                 0.61100\n",
      "free_sulfur_dioxide     289.00000\n",
      "total_sulfur_dioxide    440.00000\n",
      "density                   1.03898\n",
      "pH                        4.01000\n",
      "sulphates                 2.00000\n",
      "alcohol                  14.90000\n",
      "quality                   9.00000\n",
      "dtype: float64\n"
     ]
    }
   ],
   "execution_count": 615
  },
  {
   "metadata": {
    "ExecuteTime": {
     "end_time": "2025-03-13T22:14:04.700378Z",
     "start_time": "2025-03-13T22:14:04.686385Z"
    }
   },
   "cell_type": "code",
   "source": [
    "data_copy_resized = data_copy.astype({\n",
    "                'fixed_acidity': 'float32',\n",
    "                'volatile_acidity': 'float32',\n",
    "                'citric_acid': 'float32',\n",
    "                'residual_sugar': 'float32',\n",
    "                'chlorides': 'float32',\n",
    "                'free_sulfur_dioxide': 'float32',\n",
    "                'total_sulfur_dioxide': 'float32',\n",
    "                'density': 'float32',\n",
    "                'pH': 'float32',\n",
    "                'sulphates': 'float32',\n",
    "                'alcohol': 'float32',\n",
    "                'quality': 'int8'})\n",
    "\n",
    "tabla = list(zip(data_copy.columns,data_copy.memory_usage(deep= True), data_copy_resized.memory_usage(deep = True)))\n",
    "tabla = pd.DataFrame(tabla, columns=['columnas', 'peso original en memoria', 'peso ajustado en memoria'])\n",
    "print(tabla)"
   ],
   "id": "e66dc3b9dd9c070c",
   "outputs": [
    {
     "name": "stdout",
     "output_type": "stream",
     "text": [
      "                columnas  peso original en memoria  peso ajustado en memoria\n",
      "0          fixed_acidity                       128                       128\n",
      "1       volatile_acidity                     51976                     25988\n",
      "2            citric_acid                     51976                     25988\n",
      "3         residual_sugar                     51976                     25988\n",
      "4              chlorides                     51976                     25988\n",
      "5    free_sulfur_dioxide                     51976                     25988\n",
      "6   total_sulfur_dioxide                     51976                     25988\n",
      "7                density                     51976                     25988\n",
      "8                     pH                     51976                     25988\n",
      "9              sulphates                     51976                     25988\n",
      "10               alcohol                     51976                     25988\n",
      "11               quality                     51976                     25988\n"
     ]
    }
   ],
   "execution_count": 616
  },
  {
   "metadata": {
    "ExecuteTime": {
     "end_time": "2025-03-13T22:14:04.731385Z",
     "start_time": "2025-03-13T22:14:04.701378Z"
    }
   },
   "cell_type": "code",
   "source": [
    "print(f'Dimensionalidad Original: {data_copy.shape} ')\n",
    "print('-----------------')\n",
    "print(f'Datos duplicados: {data_copy_resized.duplicated().sum()}')\n",
    "\n",
    "duplicates = data_copy_resized[data_copy_resized.duplicated(keep=False)]  # keep=False mantiene todas las copias\n",
    "print(f\"Total de filas duplicadas: {len(duplicates)}\")\n",
    "different_labels = duplicates.groupby(data_copy_resized.columns[:-1].tolist())[\"quality\"].nunique()\n",
    "\n",
    "# Filtramos los casos donde haya más de una etiqueta distinta\n",
    "conflicting_duplicates = different_labels[different_labels > 1]\n",
    "print(f\"Total de duplicados con etiquetas diferentes: {len(conflicting_duplicates)}\")\n",
    "\n",
    "data_copy_resized = data_copy_resized.drop_duplicates()\n",
    "print(f'----------'\n",
    "      f'\\nDatos duplicados finales: {data_copy_resized.duplicated().sum()}'\n",
    "      f'\\n----------'\n",
    "      f'\\nDimensiones finales: {data_copy_resized.shape}')\n"
   ],
   "id": "8940d6f28419fa41",
   "outputs": [
    {
     "name": "stdout",
     "output_type": "stream",
     "text": [
      "Dimensionalidad Original: (6497, 12) \n",
      "-----------------\n",
      "Datos duplicados: 1179\n",
      "Total de filas duplicadas: 2172\n",
      "Total de duplicados con etiquetas diferentes: 0\n",
      "----------\n",
      "Datos duplicados finales: 0\n",
      "----------\n",
      "Dimensiones finales: (5318, 12)\n"
     ]
    }
   ],
   "execution_count": 617
  },
  {
   "metadata": {
    "ExecuteTime": {
     "end_time": "2025-03-13T22:14:04.827412Z",
     "start_time": "2025-03-13T22:14:04.732386Z"
    }
   },
   "cell_type": "code",
   "source": [
    "plt.figure(figsize=(8, 5))\n",
    "data_copy_resized['quality'].value_counts().sort_index().plot(kind='bar')\n",
    "plt.xlabel(\"Quality\")\n",
    "plt.ylabel(\"Count\")\n",
    "plt.title(\"Distribución de etiquetas después de eliminar duplicados\")\n",
    "plt.show()\n",
    "\n",
    "class_counts = data_copy_resized[\"quality\"].value_counts().sort_index() \n",
    "# Mostrar el conteo en la consola\n",
    "print(\"Total de registros por clase:\")\n",
    "print(class_counts)"
   ],
   "id": "efdb02df75c7d70f",
   "outputs": [
    {
     "data": {
      "text/plain": [
       "<Figure size 800x500 with 1 Axes>"
      ],
      "image/png": "[encoded data removed]"
     },
     "metadata": {},
     "output_type": "display_data"
    },
    {
     "name": "stdout",
     "output_type": "stream",
     "text": [
      "Total de registros por clase:\n",
      "quality\n",
      "3      30\n",
      "4     206\n",
      "5    1751\n",
      "6    2323\n",
      "7     855\n",
      "8     148\n",
      "9       5\n",
      "Name: count, dtype: int64\n"
     ]
    }
   ],
   "execution_count": 618
  },
  {
   "metadata": {
    "ExecuteTime": {
     "end_time": "2025-03-13T22:14:04.843417Z",
     "start_time": "2025-03-13T22:14:04.828414Z"
    }
   },
   "cell_type": "code",
   "source": [
    "X = data_copy_resized.drop(columns = [\"quality\"])\n",
    "y = data_copy_resized[\"quality\"]\n",
    "\n",
    "X_train, X_test, y_train, y_test = train_test_split(X, y, test_size = 0.2, stratify= y, random_state= 42)"
   ],
   "id": "cd4896f6fd134c28",
   "outputs": [],
   "execution_count": 619
  },
  {
   "metadata": {
    "ExecuteTime": {
     "end_time": "2025-03-13T22:14:04.875424Z",
     "start_time": "2025-03-13T22:14:04.846417Z"
    }
   },
   "cell_type": "code",
   "source": [
    "smote = SMOTE(sampling_strategy= \"auto\", k_neighbors= 3, random_state= 42)\n",
    "X_train_sampled, y_train_sampled = smote.fit_resample(X_train, y_train)"
   ],
   "id": "daf32c26f5e3b6c4",
   "outputs": [],
   "execution_count": 620
  },
  {
   "metadata": {
    "ExecuteTime": {
     "end_time": "2025-03-13T22:14:04.891428Z",
     "start_time": "2025-03-13T22:14:04.876425Z"
    }
   },
   "cell_type": "code",
   "source": [
    "#HIPERPARAMETROS PARA BUSQUEDA\n",
    "param_list_rf = {\n",
    "    \"model__n_estimators\": randint(50, 200),\n",
    "    \"model__max_depth\": randint(3, 20),\n",
    "    \"model__class_weight\": [\"balanced\", None]\n",
    "}\n",
    "\n",
    "param_list_xbg = {\n",
    "    \"model__n_estimators\": randint(50, 200),\n",
    "    \"model__max_depth\": randint(3, 20),\n",
    "    \"model__learning_rate\": uniform(0.01, 0.3),\n",
    "}\n",
    "\n",
    "param_list_svm = {\n",
    "    \"model__C\": uniform(0.1, 10),\n",
    "    \"model__gamma\": [\"scale\", \"auto\"],\n",
    "    \"model__class_weight\": [\"balanced\", None]\n",
    "}"
   ],
   "id": "c3fa15cf66c35712",
   "outputs": [],
   "execution_count": 621
  },
  {
   "metadata": {
    "ExecuteTime": {
     "end_time": "2025-03-13T22:14:04.907431Z",
     "start_time": "2025-03-13T22:14:04.893428Z"
    }
   },
   "cell_type": "code",
   "source": [
    "#DEFINICION DE PIPELINES PARA BUSQUEDA\n",
    "rf_pipeline = Pipeline([\n",
    "    (\"model\", RandomForestClassifier(random_state = 42))\n",
    "])\n",
    "\n",
    "xgb_pipeline = Pipeline([\n",
    "    (\"scaler\", StandardScaler()),\n",
    "    (\"model\", XGBClassifier(eval_metric = \"mlogloss\"))\n",
    "])\n",
    "\n",
    "svm_pipeline = Pipeline([\n",
    "    (\"scaler\", StandardScaler()),\n",
    "    (\"model\", SVC(kernel= \"rbf\", probability= True))\n",
    "])"
   ],
   "id": "33cecd6a37d5bb6e",
   "outputs": [],
   "execution_count": 622
  },
  {
   "metadata": {
    "ExecuteTime": {
     "end_time": "2025-03-13T22:14:04.922873Z",
     "start_time": "2025-03-13T22:14:04.908432Z"
    }
   },
   "cell_type": "code",
   "source": [
    "import numpy as np\n",
    "\n",
    "\n",
    "def search_best_params(pipeline, param_list, X, y, name):\n",
    "    if (name in[\"XGBoost Sampled\", \"XGBoost\" ]):\n",
    "        unique_classes = np.sort(y.unique())  # Obtener clases únicas ordenadas\n",
    "        class_mapping = {old_label: new_label for new_label, old_label in enumerate(unique_classes)}\n",
    "        y = y.map(class_mapping)\n",
    "     \n",
    "    search = RandomizedSearchCV(pipeline, param_list, n_iter = 10, cv = 3, scoring=\"accuracy\", random_state=42, n_jobs= -1)\n",
    "    search.fit(X,y)\n",
    "    print(f\"\\nMejores hiperparametros para {name}:\")\n",
    "    print(search.best_params_)\n",
    "    print(f\"Mejor Accuracy: {search.best_score_:.4f}\")\n",
    "    return search.best_estimator_, class_mapping if name in [\"XGBoost Sampled\", \"XGBoost\"] else None"
   ],
   "id": "31dede32d111dd59",
   "outputs": [],
   "execution_count": 623
  },
  {
   "metadata": {
    "ExecuteTime": {
     "end_time": "2025-03-13T22:15:20.890896Z",
     "start_time": "2025-03-13T22:14:04.923874Z"
    }
   },
   "cell_type": "code",
   "source": [
    "print(\"\\n Evaluando modelos en datos Sampled: \")\n",
    "best_rf_resampled = search_best_params(rf_pipeline, param_list_rf, X_train_sampled, y_train_sampled, \"Random Forest Sampled\")\n",
    "best_xgb_resampled = search_best_params(xgb_pipeline, param_list_xbg, X_train_sampled, y_train_sampled, \"XGBoost Sampled\")\n",
    "best_svm_resampled = search_best_params(svm_pipeline, param_list_svm, X_train_sampled, y_train_sampled, \"SVM Sampled\")\n"
   ],
   "id": "11c3a9055fde174",
   "outputs": [
    {
     "name": "stdout",
     "output_type": "stream",
     "text": [
      "\n",
      " Evaluando modelos en datos Sampled: \n",
      "\n",
      "Mejores hiperparametros para Random Forest Sampled:\n",
      "{'model__class_weight': 'balanced', 'model__max_depth': 17, 'model__n_estimators': 156}\n",
      "Mejor Accuracy: 0.8411\n",
      "\n",
      "Mejores hiperparametros para XGBoost Sampled:\n",
      "{'model__learning_rate': np.float64(0.24390730008183079), 'model__max_depth': 9, 'model__n_estimators': 171}\n",
      "Mejor Accuracy: 0.8445\n",
      "\n",
      "Mejores hiperparametros para SVM Sampled:\n",
      "{'model__C': np.float64(8.424426408004217), 'model__class_weight': None, 'model__gamma': 'auto'}\n",
      "Mejor Accuracy: 0.7673\n"
     ]
    }
   ],
   "execution_count": 624
  },
  {
   "metadata": {
    "ExecuteTime": {
     "end_time": "2025-03-13T22:15:41.474970Z",
     "start_time": "2025-03-13T22:15:20.891896Z"
    }
   },
   "cell_type": "code",
   "source": [
    "print(\"\\n Evaluando modelos en datos sin Sampled: \")\n",
    "best_rf = search_best_params(rf_pipeline, param_list_rf, X_train, y_train, \"Random Forest \")\n",
    "best_xgb = search_best_params(xgb_pipeline, param_list_xbg, X_train, y_train, \"XGBoost\")\n",
    "best_svm= search_best_params(svm_pipeline, param_list_svm, X_train, y_train, \"SVM \")"
   ],
   "id": "343554d7765fa545",
   "outputs": [
    {
     "name": "stdout",
     "output_type": "stream",
     "text": [
      "\n",
      " Evaluando modelos en datos sin Sampled: \n",
      "\n",
      "Mejores hiperparametros para Random Forest :\n",
      "{'model__class_weight': 'balanced', 'model__max_depth': 17, 'model__n_estimators': 156}\n",
      "Mejor Accuracy: 0.5752\n",
      "\n",
      "Mejores hiperparametros para XGBoost:\n",
      "{'model__learning_rate': np.float64(0.11011258334170654), 'model__max_depth': 10, 'model__n_estimators': 180}\n",
      "Mejor Accuracy: 0.5548\n",
      "\n",
      "Mejores hiperparametros para SVM :\n",
      "{'model__C': np.float64(3.1424224295953773), 'model__class_weight': None, 'model__gamma': 'scale'}\n",
      "Mejor Accuracy: 0.5649\n"
     ]
    }
   ],
   "execution_count": 625
  }
 ],
 "metadata": {
  "kernelspec": {
   "display_name": "Python 3",
   "language": "python",
   "name": "python3"
  },
  "language_info": {
   "codemirror_mode": {
    "name": "ipython",
    "version": 2
   },
   "file_extension": ".py",
   "mimetype": "text/x-python",
   "name": "python",
   "nbconvert_exporter": "python",
   "pygments_lexer": "ipython2",
   "version": "2.7.6"
  }
 },
 "nbformat": 4,
 "nbformat_minor": 5
}
