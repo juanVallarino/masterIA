{
 "cells": [
  {
   "cell_type": "code",
   "execution_count": null,
   "id": "initial_id",
   "metadata": {
    "collapsed": true
   },
   "outputs": [],
   "source": [
    "import tensorflow as tf\n",
    "from fontTools.subset import subset\n",
    "from tensorflow.keras.preprocessing import image_dataset_from_directory\n",
    "from tensorfow.keras import layers\n",
    "import matplotlib.pyplot as plt"
   ]
  },
  {
   "metadata": {},
   "cell_type": "code",
   "outputs": [],
   "execution_count": null,
   "source": [
    "ruta_dataset = '../resources/data_med'\n",
    "batch_size = 32\n",
    "img_height = 224\n",
    "img_width = 224\n",
    "validation_split = 0.2\n",
    "seed = 123"
   ],
   "id": "b70e58517f7bccbe"
  },
  {
   "metadata": {},
   "cell_type": "code",
   "outputs": [],
   "execution_count": null,
   "source": [
    "train_data_set = image_dataset_from_directory(\n",
    "    ruta_dataset,\n",
    "    validation_split = validation_split,\n",
    "    subset = \"training\",\n",
    "    seed = seed,\n",
    "    image_size = (img_height, img_width),\n",
    "    batch_size = batch_size\n",
    ")\n",
    "\n",
    "test_data_set = image_dataset_from_directory(\n",
    "    ruta_dataset,\n",
    "    validation_split = validation_split,\n",
    "    subset = \"validation\",\n",
    "    seed = seed,\n",
    "    image_size = (img_height, img_width),\n",
    "    batch_size = batch_size\n",
    ")"
   ],
   "id": "1ec85c6b7a984897"
  },
  {
   "metadata": {},
   "cell_type": "code",
   "outputs": [],
   "execution_count": null,
   "source": [
    "data_augmentation = tf.keras.Sequential([\n",
    "    layers.RandomFlip(\"horizontal\"),\n",
    "    layers.RandomRotation(0.1),\n",
    "    layers.RandomZoom(0.1)\n",
    "])\n",
    "\n",
    "normalization_layer = layers.Rescaling(1./255)\n"
   ],
   "id": "b7ce5358ac0bfa1c"
  },
  {
   "metadata": {},
   "cell_type": "code",
   "outputs": [],
   "execution_count": null,
   "source": [
    "train_data_set = train_data_set.map(lambda x, y: (data_augmentation(x, training = True), y), num_parallel_calls = AUTOTUNE)\n",
    "\n",
    "train_data_set = train_data_set.map(lambda x, y: (normalization_layer(x), y), num_parallel_calls = AUTOTUNE)\n",
    "test_data_set = test_data_set.map(lambda x, y: (normalization_layer(x), y), num_parallel_calls = AUTOTUNE)\n",
    "\n",
    "train_data_set = train_data_set.prefetch(buffer_size = AUTOTUNE)\n",
    "test_data_set = test_data_set.prefetch(buffer_size = AUTOTUNE)"
   ],
   "id": "4b7c48ff30fbce16"
  }
 ],
 "metadata": {
  "kernelspec": {
   "display_name": "Python 3",
   "language": "python",
   "name": "python3"
  },
  "language_info": {
   "codemirror_mode": {
    "name": "ipython",
    "version": 2
   },
   "file_extension": ".py",
   "mimetype": "text/x-python",
   "name": "python",
   "nbconvert_exporter": "python",
   "pygments_lexer": "ipython2",
   "version": "2.7.6"
  }
 },
 "nbformat": 4,
 "nbformat_minor": 5
}
