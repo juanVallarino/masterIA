{
 "cells": [
  {
   "cell_type": "code",
   "id": "initial_id",
   "metadata": {
    "collapsed": true,
    "ExecuteTime": {
     "end_time": "2025-02-13T14:35:49.226113Z",
     "start_time": "2025-02-13T14:35:45.616882Z"
    }
   },
   "source": [
    "import csv\n",
    "import numpy as np\n",
    "import os\n",
    "import random\n",
    "import cv2\n",
    "import pandas as pd\n",
    "import matplotlib.pyplot as plt\n",
    "from pathlib import Path\n",
    "\n",
    "from sklearn.cluster import KMeans, mean_shift"
   ],
   "outputs": [],
   "execution_count": 2
  },
  {
   "metadata": {
    "ExecuteTime": {
     "end_time": "2025-02-13T02:51:12.779128Z",
     "start_time": "2025-02-13T02:51:12.748096Z"
    }
   },
   "cell_type": "code",
   "source": [
    "main_direct = '../resources/micro_proyecto1_data'\n",
    "sub_directs = os.listdir(main_direct)\n",
    "\n",
    "images_per_directory = []\n",
    "for sub_dir in sub_directs:\n",
    "    full_path = os.path.join(main_direct, sub_dir)\n",
    "    \n",
    "    if os.path.isdir(full_path):\n",
    "        images = [f for f in os.listdir(full_path) if f.lower().endswith(('.jpg', '.jpeg', '.png'))]\n",
    "        images_per_directory.append(len(images))\n",
    "\n",
    "min_images = min(images_per_directory)\n",
    "\n",
    "print(\"total de imagenes por directorio: \",images_per_directory)   \n",
    "print(\"menor cantidad de imagenes encontrada en un directorio: \",min_images)\n",
    "\n",
    "\n"
   ],
   "id": "edd280b952717a72",
   "outputs": [
    {
     "name": "stdout",
     "output_type": "stream",
     "text": [
      "total de imagenes por directorio:  [2782, 1615, 2235, 2405]\n",
      "menor cantidad de imagenes encontrada en un directorio:  1615\n"
     ]
    }
   ],
   "execution_count": 10
  },
  {
   "metadata": {
    "ExecuteTime": {
     "end_time": "2025-02-13T18:48:21.575192Z",
     "start_time": "2025-02-13T18:48:21.567190Z"
    }
   },
   "cell_type": "code",
   "source": [
    "def load_images(main_direct, sub_directs, min_images, flatten=True, normalize=True):\n",
    "   \n",
    "    image_list = list()\n",
    "    for sub_dir in sub_directs:\n",
    "        full_path = os.path.join(main_direct, sub_dir)\n",
    "    \n",
    "        if os.path.isdir(full_path):\n",
    "            images = [f for f in os.listdir(full_path) if f.lower().endswith(('.jpg', '.jpeg', '.png'))]\n",
    "        \n",
    "            selected_images = random.sample(images, min_images)\n",
    "\n",
    "        for image in selected_images:\n",
    "                img = cv2.imread(os.path.join(full_path, image))\n",
    "                img = cv2.cvtColor(img, cv2.COLOR_BGR2RGB)\n",
    "                if flatten:\n",
    "                    img = img.reshape((-1, 3))\n",
    "                if normalize:\n",
    "                    img = img / 255.0\n",
    "                image_list.append(img)\n",
    "    return image_list"
   ],
   "id": "8f8051862744e66",
   "outputs": [],
   "execution_count": 3
  },
  {
   "metadata": {},
   "cell_type": "code",
   "outputs": [],
   "execution_count": null,
   "source": "",
   "id": "6b04a21297879540"
  }
 ],
 "metadata": {
  "kernelspec": {
   "display_name": "Python 3",
   "language": "python",
   "name": "python3"
  },
  "language_info": {
   "codemirror_mode": {
    "name": "ipython",
    "version": 2
   },
   "file_extension": ".py",
   "mimetype": "text/x-python",
   "name": "python",
   "nbconvert_exporter": "python",
   "pygments_lexer": "ipython2",
   "version": "2.7.6"
  }
 },
 "nbformat": 4,
 "nbformat_minor": 5
}
